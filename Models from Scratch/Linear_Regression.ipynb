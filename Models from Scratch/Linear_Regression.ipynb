{
  "nbformat": 4,
  "nbformat_minor": 0,
  "metadata": {
    "colab": {
      "provenance": [],
      "include_colab_link": true
    },
    "kernelspec": {
      "name": "python3",
      "display_name": "Python 3"
    },
    "language_info": {
      "name": "python"
    }
  },
  "cells": [
    {
      "cell_type": "markdown",
      "metadata": {
        "id": "view-in-github",
        "colab_type": "text"
      },
      "source": [
        "<a href=\"https://colab.research.google.com/github/HarshNVyas/ML-Projects/blob/main/Models%20from%20Scratch/Linear_Regression.ipynb\" target=\"_parent\"><img src=\"https://colab.research.google.com/assets/colab-badge.svg\" alt=\"Open In Colab\"/></a>"
      ]
    },
    {
      "cell_type": "markdown",
      "source": [
        "# Mounting Drive"
      ],
      "metadata": {
        "id": "SBXH9g7vPfTu"
      }
    },
    {
      "cell_type": "code",
      "source": [
        "from google.colab import drive\n",
        "drive.mount('/content/drive')"
      ],
      "metadata": {
        "colab": {
          "base_uri": "https://localhost:8080/"
        },
        "id": "Al1Y-xcfM6pL",
        "outputId": "b4c6c6a3-3399-4677-99e4-ec6ead125e32"
      },
      "execution_count": null,
      "outputs": [
        {
          "output_type": "stream",
          "name": "stdout",
          "text": [
            "Drive already mounted at /content/drive; to attempt to forcibly remount, call drive.mount(\"/content/drive\", force_remount=True).\n"
          ]
        }
      ]
    },
    {
      "cell_type": "markdown",
      "source": [
        "# Importing Libraries"
      ],
      "metadata": {
        "id": "A1fbIk_WPjBo"
      }
    },
    {
      "cell_type": "code",
      "metadata": {
        "id": "AfpwaNup4Vxn"
      },
      "source": [
        "import pandas as pd\n",
        "import numpy as np\n",
        "import matplotlib.pyplot as plt"
      ],
      "execution_count": null,
      "outputs": []
    },
    {
      "cell_type": "code",
      "metadata": {
        "colab": {
          "base_uri": "https://localhost:8080/",
          "height": 206
        },
        "id": "mK8SwRYI41AX",
        "outputId": "7c4dd9d8-d0ac-4624-ce69-72fd1339c037"
      },
      "source": [
        "df = pd.read_excel('/content/drive/MyDrive/Colab/Datasets/Linear Regression.xlsx')\n",
        "df.head()"
      ],
      "execution_count": null,
      "outputs": [
        {
          "output_type": "execute_result",
          "data": {
            "text/plain": [
              "   HOME SIZE  VALUE\n",
              "0       2311    396\n",
              "1       2968    355\n",
              "2       3773    586\n",
              "3       1934    254\n",
              "4       5466    646"
            ],
            "text/html": [
              "\n",
              "  <div id=\"df-298ab0a9-e3cd-4c64-b78a-dcdbd29d9a23\" class=\"colab-df-container\">\n",
              "    <div>\n",
              "<style scoped>\n",
              "    .dataframe tbody tr th:only-of-type {\n",
              "        vertical-align: middle;\n",
              "    }\n",
              "\n",
              "    .dataframe tbody tr th {\n",
              "        vertical-align: top;\n",
              "    }\n",
              "\n",
              "    .dataframe thead th {\n",
              "        text-align: right;\n",
              "    }\n",
              "</style>\n",
              "<table border=\"1\" class=\"dataframe\">\n",
              "  <thead>\n",
              "    <tr style=\"text-align: right;\">\n",
              "      <th></th>\n",
              "      <th>HOME SIZE</th>\n",
              "      <th>VALUE</th>\n",
              "    </tr>\n",
              "  </thead>\n",
              "  <tbody>\n",
              "    <tr>\n",
              "      <th>0</th>\n",
              "      <td>2311</td>\n",
              "      <td>396</td>\n",
              "    </tr>\n",
              "    <tr>\n",
              "      <th>1</th>\n",
              "      <td>2968</td>\n",
              "      <td>355</td>\n",
              "    </tr>\n",
              "    <tr>\n",
              "      <th>2</th>\n",
              "      <td>3773</td>\n",
              "      <td>586</td>\n",
              "    </tr>\n",
              "    <tr>\n",
              "      <th>3</th>\n",
              "      <td>1934</td>\n",
              "      <td>254</td>\n",
              "    </tr>\n",
              "    <tr>\n",
              "      <th>4</th>\n",
              "      <td>5466</td>\n",
              "      <td>646</td>\n",
              "    </tr>\n",
              "  </tbody>\n",
              "</table>\n",
              "</div>\n",
              "    <div class=\"colab-df-buttons\">\n",
              "\n",
              "  <div class=\"colab-df-container\">\n",
              "    <button class=\"colab-df-convert\" onclick=\"convertToInteractive('df-298ab0a9-e3cd-4c64-b78a-dcdbd29d9a23')\"\n",
              "            title=\"Convert this dataframe to an interactive table.\"\n",
              "            style=\"display:none;\">\n",
              "\n",
              "  <svg xmlns=\"http://www.w3.org/2000/svg\" height=\"24px\" viewBox=\"0 -960 960 960\">\n",
              "    <path d=\"M120-120v-720h720v720H120Zm60-500h600v-160H180v160Zm220 220h160v-160H400v160Zm0 220h160v-160H400v160ZM180-400h160v-160H180v160Zm440 0h160v-160H620v160ZM180-180h160v-160H180v160Zm440 0h160v-160H620v160Z\"/>\n",
              "  </svg>\n",
              "    </button>\n",
              "\n",
              "  <style>\n",
              "    .colab-df-container {\n",
              "      display:flex;\n",
              "      gap: 12px;\n",
              "    }\n",
              "\n",
              "    .colab-df-convert {\n",
              "      background-color: #E8F0FE;\n",
              "      border: none;\n",
              "      border-radius: 50%;\n",
              "      cursor: pointer;\n",
              "      display: none;\n",
              "      fill: #1967D2;\n",
              "      height: 32px;\n",
              "      padding: 0 0 0 0;\n",
              "      width: 32px;\n",
              "    }\n",
              "\n",
              "    .colab-df-convert:hover {\n",
              "      background-color: #E2EBFA;\n",
              "      box-shadow: 0px 1px 2px rgba(60, 64, 67, 0.3), 0px 1px 3px 1px rgba(60, 64, 67, 0.15);\n",
              "      fill: #174EA6;\n",
              "    }\n",
              "\n",
              "    .colab-df-buttons div {\n",
              "      margin-bottom: 4px;\n",
              "    }\n",
              "\n",
              "    [theme=dark] .colab-df-convert {\n",
              "      background-color: #3B4455;\n",
              "      fill: #D2E3FC;\n",
              "    }\n",
              "\n",
              "    [theme=dark] .colab-df-convert:hover {\n",
              "      background-color: #434B5C;\n",
              "      box-shadow: 0px 1px 3px 1px rgba(0, 0, 0, 0.15);\n",
              "      filter: drop-shadow(0px 1px 2px rgba(0, 0, 0, 0.3));\n",
              "      fill: #FFFFFF;\n",
              "    }\n",
              "  </style>\n",
              "\n",
              "    <script>\n",
              "      const buttonEl =\n",
              "        document.querySelector('#df-298ab0a9-e3cd-4c64-b78a-dcdbd29d9a23 button.colab-df-convert');\n",
              "      buttonEl.style.display =\n",
              "        google.colab.kernel.accessAllowed ? 'block' : 'none';\n",
              "\n",
              "      async function convertToInteractive(key) {\n",
              "        const element = document.querySelector('#df-298ab0a9-e3cd-4c64-b78a-dcdbd29d9a23');\n",
              "        const dataTable =\n",
              "          await google.colab.kernel.invokeFunction('convertToInteractive',\n",
              "                                                    [key], {});\n",
              "        if (!dataTable) return;\n",
              "\n",
              "        const docLinkHtml = 'Like what you see? Visit the ' +\n",
              "          '<a target=\"_blank\" href=https://colab.research.google.com/notebooks/data_table.ipynb>data table notebook</a>'\n",
              "          + ' to learn more about interactive tables.';\n",
              "        element.innerHTML = '';\n",
              "        dataTable['output_type'] = 'display_data';\n",
              "        await google.colab.output.renderOutput(dataTable, element);\n",
              "        const docLink = document.createElement('div');\n",
              "        docLink.innerHTML = docLinkHtml;\n",
              "        element.appendChild(docLink);\n",
              "      }\n",
              "    </script>\n",
              "  </div>\n",
              "\n",
              "\n",
              "<div id=\"df-422eeaec-9ee8-4a21-9866-0d6129a6c1ff\">\n",
              "  <button class=\"colab-df-quickchart\" onclick=\"quickchart('df-422eeaec-9ee8-4a21-9866-0d6129a6c1ff')\"\n",
              "            title=\"Suggest charts\"\n",
              "            style=\"display:none;\">\n",
              "\n",
              "<svg xmlns=\"http://www.w3.org/2000/svg\" height=\"24px\"viewBox=\"0 0 24 24\"\n",
              "     width=\"24px\">\n",
              "    <g>\n",
              "        <path d=\"M19 3H5c-1.1 0-2 .9-2 2v14c0 1.1.9 2 2 2h14c1.1 0 2-.9 2-2V5c0-1.1-.9-2-2-2zM9 17H7v-7h2v7zm4 0h-2V7h2v10zm4 0h-2v-4h2v4z\"/>\n",
              "    </g>\n",
              "</svg>\n",
              "  </button>\n",
              "\n",
              "<style>\n",
              "  .colab-df-quickchart {\n",
              "      --bg-color: #E8F0FE;\n",
              "      --fill-color: #1967D2;\n",
              "      --hover-bg-color: #E2EBFA;\n",
              "      --hover-fill-color: #174EA6;\n",
              "      --disabled-fill-color: #AAA;\n",
              "      --disabled-bg-color: #DDD;\n",
              "  }\n",
              "\n",
              "  [theme=dark] .colab-df-quickchart {\n",
              "      --bg-color: #3B4455;\n",
              "      --fill-color: #D2E3FC;\n",
              "      --hover-bg-color: #434B5C;\n",
              "      --hover-fill-color: #FFFFFF;\n",
              "      --disabled-bg-color: #3B4455;\n",
              "      --disabled-fill-color: #666;\n",
              "  }\n",
              "\n",
              "  .colab-df-quickchart {\n",
              "    background-color: var(--bg-color);\n",
              "    border: none;\n",
              "    border-radius: 50%;\n",
              "    cursor: pointer;\n",
              "    display: none;\n",
              "    fill: var(--fill-color);\n",
              "    height: 32px;\n",
              "    padding: 0;\n",
              "    width: 32px;\n",
              "  }\n",
              "\n",
              "  .colab-df-quickchart:hover {\n",
              "    background-color: var(--hover-bg-color);\n",
              "    box-shadow: 0 1px 2px rgba(60, 64, 67, 0.3), 0 1px 3px 1px rgba(60, 64, 67, 0.15);\n",
              "    fill: var(--button-hover-fill-color);\n",
              "  }\n",
              "\n",
              "  .colab-df-quickchart-complete:disabled,\n",
              "  .colab-df-quickchart-complete:disabled:hover {\n",
              "    background-color: var(--disabled-bg-color);\n",
              "    fill: var(--disabled-fill-color);\n",
              "    box-shadow: none;\n",
              "  }\n",
              "\n",
              "  .colab-df-spinner {\n",
              "    border: 2px solid var(--fill-color);\n",
              "    border-color: transparent;\n",
              "    border-bottom-color: var(--fill-color);\n",
              "    animation:\n",
              "      spin 1s steps(1) infinite;\n",
              "  }\n",
              "\n",
              "  @keyframes spin {\n",
              "    0% {\n",
              "      border-color: transparent;\n",
              "      border-bottom-color: var(--fill-color);\n",
              "      border-left-color: var(--fill-color);\n",
              "    }\n",
              "    20% {\n",
              "      border-color: transparent;\n",
              "      border-left-color: var(--fill-color);\n",
              "      border-top-color: var(--fill-color);\n",
              "    }\n",
              "    30% {\n",
              "      border-color: transparent;\n",
              "      border-left-color: var(--fill-color);\n",
              "      border-top-color: var(--fill-color);\n",
              "      border-right-color: var(--fill-color);\n",
              "    }\n",
              "    40% {\n",
              "      border-color: transparent;\n",
              "      border-right-color: var(--fill-color);\n",
              "      border-top-color: var(--fill-color);\n",
              "    }\n",
              "    60% {\n",
              "      border-color: transparent;\n",
              "      border-right-color: var(--fill-color);\n",
              "    }\n",
              "    80% {\n",
              "      border-color: transparent;\n",
              "      border-right-color: var(--fill-color);\n",
              "      border-bottom-color: var(--fill-color);\n",
              "    }\n",
              "    90% {\n",
              "      border-color: transparent;\n",
              "      border-bottom-color: var(--fill-color);\n",
              "    }\n",
              "  }\n",
              "</style>\n",
              "\n",
              "  <script>\n",
              "    async function quickchart(key) {\n",
              "      const quickchartButtonEl =\n",
              "        document.querySelector('#' + key + ' button');\n",
              "      quickchartButtonEl.disabled = true;  // To prevent multiple clicks.\n",
              "      quickchartButtonEl.classList.add('colab-df-spinner');\n",
              "      try {\n",
              "        const charts = await google.colab.kernel.invokeFunction(\n",
              "            'suggestCharts', [key], {});\n",
              "      } catch (error) {\n",
              "        console.error('Error during call to suggestCharts:', error);\n",
              "      }\n",
              "      quickchartButtonEl.classList.remove('colab-df-spinner');\n",
              "      quickchartButtonEl.classList.add('colab-df-quickchart-complete');\n",
              "    }\n",
              "    (() => {\n",
              "      let quickchartButtonEl =\n",
              "        document.querySelector('#df-422eeaec-9ee8-4a21-9866-0d6129a6c1ff button');\n",
              "      quickchartButtonEl.style.display =\n",
              "        google.colab.kernel.accessAllowed ? 'block' : 'none';\n",
              "    })();\n",
              "  </script>\n",
              "</div>\n",
              "\n",
              "    </div>\n",
              "  </div>\n"
            ]
          },
          "metadata": {},
          "execution_count": 3
        }
      ]
    },
    {
      "cell_type": "markdown",
      "source": [
        "# Independent (X) and Dependent (y) Variables"
      ],
      "metadata": {
        "id": "pqACGdUrPmJj"
      }
    },
    {
      "cell_type": "code",
      "source": [
        "X, y = 'HOME SIZE', 'VALUE'"
      ],
      "metadata": {
        "id": "ZKvOF_eLN2wm"
      },
      "execution_count": null,
      "outputs": []
    },
    {
      "cell_type": "code",
      "metadata": {
        "id": "Fe8TZ7ZBETa5",
        "colab": {
          "base_uri": "https://localhost:8080/",
          "height": 430
        },
        "outputId": "67747c21-4e11-4c45-dc03-00fc8e4aef29"
      },
      "source": [
        "plt.scatter(df[X],df[y])\n",
        "plt.show()"
      ],
      "execution_count": null,
      "outputs": [
        {
          "output_type": "display_data",
          "data": {
            "text/plain": [
              "<Figure size 640x480 with 1 Axes>"
            ],
            "image/png": "[encoded data removed]"
          },
          "metadata": {}
        }
      ]
    },
    {
      "cell_type": "code",
      "metadata": {
        "id": "dXPosUR-_7or",
        "colab": {
          "base_uri": "https://localhost:8080/"
        },
        "outputId": "fffc303f-7208-468b-a3e2-80df60a54c25"
      },
      "source": [
        "x_bar = df[X].mean()\n",
        "y_bar = df[y].mean()\n",
        "length = len(df.index)\n",
        "arr = np.zeros(((length+1),6), dtype='float')\n",
        "arr"
      ],
      "execution_count": null,
      "outputs": [
        {
          "output_type": "execute_result",
          "data": {
            "text/plain": [
              "array([[0., 0., 0., 0., 0., 0.],\n",
              "       [0., 0., 0., 0., 0., 0.],\n",
              "       [0., 0., 0., 0., 0., 0.],\n",
              "       [0., 0., 0., 0., 0., 0.],\n",
              "       [0., 0., 0., 0., 0., 0.],\n",
              "       [0., 0., 0., 0., 0., 0.],\n",
              "       [0., 0., 0., 0., 0., 0.],\n",
              "       [0., 0., 0., 0., 0., 0.],\n",
              "       [0., 0., 0., 0., 0., 0.],\n",
              "       [0., 0., 0., 0., 0., 0.],\n",
              "       [0., 0., 0., 0., 0., 0.],\n",
              "       [0., 0., 0., 0., 0., 0.],\n",
              "       [0., 0., 0., 0., 0., 0.],\n",
              "       [0., 0., 0., 0., 0., 0.],\n",
              "       [0., 0., 0., 0., 0., 0.],\n",
              "       [0., 0., 0., 0., 0., 0.],\n",
              "       [0., 0., 0., 0., 0., 0.],\n",
              "       [0., 0., 0., 0., 0., 0.],\n",
              "       [0., 0., 0., 0., 0., 0.],\n",
              "       [0., 0., 0., 0., 0., 0.],\n",
              "       [0., 0., 0., 0., 0., 0.],\n",
              "       [0., 0., 0., 0., 0., 0.],\n",
              "       [0., 0., 0., 0., 0., 0.],\n",
              "       [0., 0., 0., 0., 0., 0.],\n",
              "       [0., 0., 0., 0., 0., 0.],\n",
              "       [0., 0., 0., 0., 0., 0.],\n",
              "       [0., 0., 0., 0., 0., 0.],\n",
              "       [0., 0., 0., 0., 0., 0.],\n",
              "       [0., 0., 0., 0., 0., 0.],\n",
              "       [0., 0., 0., 0., 0., 0.],\n",
              "       [0., 0., 0., 0., 0., 0.],\n",
              "       [0., 0., 0., 0., 0., 0.],\n",
              "       [0., 0., 0., 0., 0., 0.],\n",
              "       [0., 0., 0., 0., 0., 0.],\n",
              "       [0., 0., 0., 0., 0., 0.],\n",
              "       [0., 0., 0., 0., 0., 0.],\n",
              "       [0., 0., 0., 0., 0., 0.],\n",
              "       [0., 0., 0., 0., 0., 0.],\n",
              "       [0., 0., 0., 0., 0., 0.],\n",
              "       [0., 0., 0., 0., 0., 0.],\n",
              "       [0., 0., 0., 0., 0., 0.],\n",
              "       [0., 0., 0., 0., 0., 0.],\n",
              "       [0., 0., 0., 0., 0., 0.],\n",
              "       [0., 0., 0., 0., 0., 0.],\n",
              "       [0., 0., 0., 0., 0., 0.]])"
            ]
          },
          "metadata": {},
          "execution_count": 6
        }
      ]
    },
    {
      "cell_type": "code",
      "metadata": {
        "colab": {
          "base_uri": "https://localhost:8080/"
        },
        "id": "qRxsu3tATLXl",
        "outputId": "fd62093e-4e7a-4c13-b912-0231358b162b"
      },
      "source": [
        "print(x_bar,' <- x_bar and y_bar -> ',y_bar)"
      ],
      "execution_count": null,
      "outputs": [
        {
          "output_type": "stream",
          "name": "stdout",
          "text": [
            "3010.340909090909  <- x_bar and y_bar ->  447.47727272727275\n"
          ]
        }
      ]
    },
    {
      "cell_type": "code",
      "metadata": {
        "colab": {
          "base_uri": "https://localhost:8080/"
        },
        "id": "_ctLxH5RBxCo",
        "outputId": "acbc9102-20dc-4c06-89b8-9bbd0873866a"
      },
      "source": [
        "sum1 = 0\n",
        "sum2 = 0\n",
        "for i in range (length):\n",
        "  arr[i,0] = round(df.loc[i][X],2)\n",
        "  arr[i,1] = round(df.loc[i][y],2)\n",
        "  arr[i,2] = round(arr[i,0] - x_bar,2)\n",
        "  arr[i,3] = round(arr[i,1] - y_bar,2)\n",
        "  arr[i,4] = round(arr[i,2]*arr[i,3],2)\n",
        "  sum1 += arr[i,4]\n",
        "  arr[i,5] = round(arr[i,2]**2,2)\n",
        "  sum2 += arr[i,5]\n",
        "arr[-1,4] = round(sum1,2)\n",
        "arr[-1,5] = round(sum2,2)\n",
        "arr"
      ],
      "execution_count": null,
      "outputs": [
        {
          "output_type": "execute_result",
          "data": {
            "text/plain": [
              "array([[ 2.31100000e+03,  3.96000000e+02, -6.99340000e+02,\n",
              "        -5.14800000e+01,  3.60020200e+04,  4.89076440e+05],\n",
              "       [ 2.96800000e+03,  3.55000000e+02, -4.23400000e+01,\n",
              "        -9.24800000e+01,  3.91560000e+03,  1.79268000e+03],\n",
              "       [ 3.77300000e+03,  5.86000000e+02,  7.62660000e+02,\n",
              "         1.38520000e+02,  1.05643660e+05,  5.81650280e+05],\n",
              "       [ 1.93400000e+03,  2.54000000e+02, -1.07634000e+03,\n",
              "        -1.93480000e+02,  2.08250260e+05,  1.15850780e+06],\n",
              "       [ 5.46600000e+03,  6.46000000e+02,  2.45566000e+03,\n",
              "         1.98520000e+02,  4.87497620e+05,  6.03026604e+06],\n",
              "       [ 2.18000000e+03,  2.78000000e+02, -8.30340000e+02,\n",
              "        -1.69480000e+02,  1.40726020e+05,  6.89464520e+05],\n",
              "       [ 2.12800000e+03,  2.79000000e+02, -8.82340000e+02,\n",
              "        -1.68480000e+02,  1.48656640e+05,  7.78523880e+05],\n",
              "       [ 3.43900000e+03,  7.48000000e+02,  4.28660000e+02,\n",
              "         3.00520000e+02,  1.28820900e+05,  1.83749400e+05],\n",
              "       [ 4.55900000e+03,  5.46000000e+02,  1.54866000e+03,\n",
              "         9.85200000e+01,  1.52573980e+05,  2.39834780e+06],\n",
              "       [ 2.74800000e+03,  3.38000000e+02, -2.62340000e+02,\n",
              "        -1.09480000e+02,  2.87209800e+04,  6.88222800e+04],\n",
              "       [ 2.70900000e+03,  4.09000000e+02, -3.01340000e+02,\n",
              "        -3.84800000e+01,  1.15955600e+04,  9.08058000e+04],\n",
              "       [ 2.20900000e+03,  3.82000000e+02, -8.01340000e+02,\n",
              "        -6.54800000e+01,  5.24717400e+04,  6.42145800e+05],\n",
              "       [ 3.37200000e+03,  4.43000000e+02,  3.61660000e+02,\n",
              "        -4.48000000e+00, -1.62024000e+03,  1.30797960e+05],\n",
              "       [ 2.94400000e+03,  6.10000000e+02, -6.63400000e+01,\n",
              "         1.62520000e+02, -1.07815800e+04,  4.40100000e+03],\n",
              "       [ 4.02000000e+03,  3.94000000e+02,  1.00966000e+03,\n",
              "        -5.34800000e+01, -5.39966200e+04,  1.01941332e+06],\n",
              "       [ 2.72200000e+03,  3.40000000e+02, -2.88340000e+02,\n",
              "        -1.07480000e+02,  3.09907800e+04,  8.31399600e+04],\n",
              "       [ 1.29600000e+03,  2.08000000e+02, -1.71434000e+03,\n",
              "        -2.39480000e+02,  4.10550140e+05,  2.93896164e+06],\n",
              "       [ 2.38400000e+03,  3.50000000e+02, -6.26340000e+02,\n",
              "        -9.74800000e+01,  6.10556200e+04,  3.92301800e+05],\n",
              "       [ 3.29600000e+03,  6.87000000e+02,  2.85660000e+02,\n",
              "         2.39520000e+02,  6.84212800e+04,  8.16016400e+04],\n",
              "       [ 3.04200000e+03,  4.96000000e+02,  3.16600000e+01,\n",
              "         4.85200000e+01,  1.53614000e+03,  1.00236000e+03],\n",
              "       [ 3.17800000e+03,  5.68000000e+02,  1.67660000e+02,\n",
              "         1.20520000e+02,  2.02063800e+04,  2.81098800e+04],\n",
              "       [ 2.27200000e+03,  3.21000000e+02, -7.38340000e+02,\n",
              "        -1.26480000e+02,  9.33852400e+04,  5.45145960e+05],\n",
              "       [ 2.48800000e+03,  3.28000000e+02, -5.22340000e+02,\n",
              "        -1.19480000e+02,  6.24091800e+04,  2.72839080e+05],\n",
              "       [ 2.28200000e+03,  3.17000000e+02, -7.28340000e+02,\n",
              "        -1.30480000e+02,  9.50338000e+04,  5.30479160e+05],\n",
              "       [ 2.52600000e+03,  3.87000000e+02, -4.84340000e+02,\n",
              "        -6.04800000e+01,  2.92928800e+04,  2.34585240e+05],\n",
              "       [ 3.29800000e+03,  4.62000000e+02,  2.87660000e+02,\n",
              "         1.45200000e+01,  4.17682000e+03,  8.27482800e+04],\n",
              "       [ 2.75200000e+03,  6.78000000e+02, -2.58340000e+02,\n",
              "         2.30520000e+02, -5.95525400e+04,  6.67395600e+04],\n",
              "       [ 2.58700000e+03,  3.09000000e+02, -4.23340000e+02,\n",
              "        -1.38480000e+02,  5.86241200e+04,  1.79216760e+05],\n",
              "       [ 2.58700000e+03,  6.48000000e+02, -4.23340000e+02,\n",
              "         2.00520000e+02, -8.48881400e+04,  1.79216760e+05],\n",
              "       [ 2.77400000e+03,  2.95000000e+02, -2.36340000e+02,\n",
              "        -1.52480000e+02,  3.60371200e+04,  5.58566000e+04],\n",
              "       [ 4.16100000e+03,  5.48000000e+02,  1.15066000e+03,\n",
              "         1.00520000e+02,  1.15664340e+05,  1.32401844e+06],\n",
              "       [ 4.06300000e+03,  5.27000000e+02,  1.05266000e+03,\n",
              "         7.95200000e+01,  8.37075200e+04,  1.10809308e+06],\n",
              "       [ 4.20400000e+03,  5.90000000e+02,  1.19366000e+03,\n",
              "         1.42520000e+02,  1.70120420e+05,  1.42482420e+06],\n",
              "       [ 3.63200000e+03,  5.05000000e+02,  6.21660000e+02,\n",
              "         5.75200000e+01,  3.57578800e+04,  3.86461160e+05],\n",
              "       [ 4.39800000e+03,  7.16000000e+02,  1.38766000e+03,\n",
              "         2.68520000e+02,  3.72614460e+05,  1.92560028e+06],\n",
              "       [ 1.86400000e+03,  3.85000000e+02, -1.14634000e+03,\n",
              "        -6.24800000e+01,  7.16233200e+04,  1.31409540e+06],\n",
              "       [ 1.79200000e+03,  3.14000000e+02, -1.21834000e+03,\n",
              "        -1.33480000e+02,  1.62624020e+05,  1.48435236e+06],\n",
              "       [ 2.68100000e+03,  4.83000000e+02, -3.29340000e+02,\n",
              "         3.55200000e+01, -1.16981600e+04,  1.08464840e+05],\n",
              "       [ 4.03800000e+03,  4.68000000e+02,  1.02766000e+03,\n",
              "         2.05200000e+01,  2.10875800e+04,  1.05608508e+06],\n",
              "       [ 3.17300000e+03,  4.18000000e+02,  1.62660000e+02,\n",
              "        -2.94800000e+01, -4.79522000e+03,  2.64582800e+04],\n",
              "       [ 2.78400000e+03,  4.19000000e+02, -2.26340000e+02,\n",
              "        -2.84800000e+01,  6.44616000e+03,  5.12298000e+04],\n",
              "       [ 2.40600000e+03,  2.96000000e+02, -6.04340000e+02,\n",
              "        -1.51480000e+02,  9.15454200e+04,  3.65226840e+05],\n",
              "       [ 2.90000000e+03,  3.75000000e+02, -1.10340000e+02,\n",
              "        -7.24800000e+01,  7.99744000e+03,  1.21749200e+04],\n",
              "       [ 4.11500000e+03,  5.87000000e+02,  1.10466000e+03,\n",
              "         1.39520000e+02,  1.54122160e+05,  1.22027372e+06],\n",
              "       [ 0.00000000e+00,  0.00000000e+00,  0.00000000e+00,\n",
              "         0.00000000e+00,  3.54257270e+06,  3.17470681e+07]])"
            ]
          },
          "metadata": {},
          "execution_count": 8
        }
      ]
    },
    {
      "cell_type": "code",
      "metadata": {
        "colab": {
          "base_uri": "https://localhost:8080/"
        },
        "id": "5n7dw5ZbEMHs",
        "outputId": "d763069f-8490-4c29-bfc1-e99df8fd7da9"
      },
      "source": [
        "m = sum1/sum2\n",
        "c = y_bar - m*x_bar\n",
        "print(m,' <- m and c -> ',c)"
      ],
      "execution_count": null,
      "outputs": [
        {
          "output_type": "stream",
          "name": "stdout",
          "text": [
            "0.11158739733297597  <- m and c ->  111.5611655968334\n"
          ]
        }
      ]
    },
    {
      "cell_type": "code",
      "metadata": {
        "colab": {
          "base_uri": "https://localhost:8080/"
        },
        "id": "ZgiKsFWKHcwU",
        "outputId": "ecd27c3c-065e-4bad-b16e-65b2b6ce8704"
      },
      "source": [
        "arr1 = np.zeros(((length+1),6), dtype='float')\n",
        "arr1"
      ],
      "execution_count": null,
      "outputs": [
        {
          "output_type": "execute_result",
          "data": {
            "text/plain": [
              "array([[0., 0., 0., 0., 0., 0.],\n",
              "       [0., 0., 0., 0., 0., 0.],\n",
              "       [0., 0., 0., 0., 0., 0.],\n",
              "       [0., 0., 0., 0., 0., 0.],\n",
              "       [0., 0., 0., 0., 0., 0.],\n",
              "       [0., 0., 0., 0., 0., 0.],\n",
              "       [0., 0., 0., 0., 0., 0.],\n",
              "       [0., 0., 0., 0., 0., 0.],\n",
              "       [0., 0., 0., 0., 0., 0.],\n",
              "       [0., 0., 0., 0., 0., 0.],\n",
              "       [0., 0., 0., 0., 0., 0.],\n",
              "       [0., 0., 0., 0., 0., 0.],\n",
              "       [0., 0., 0., 0., 0., 0.],\n",
              "       [0., 0., 0., 0., 0., 0.],\n",
              "       [0., 0., 0., 0., 0., 0.],\n",
              "       [0., 0., 0., 0., 0., 0.],\n",
              "       [0., 0., 0., 0., 0., 0.],\n",
              "       [0., 0., 0., 0., 0., 0.],\n",
              "       [0., 0., 0., 0., 0., 0.],\n",
              "       [0., 0., 0., 0., 0., 0.],\n",
              "       [0., 0., 0., 0., 0., 0.],\n",
              "       [0., 0., 0., 0., 0., 0.],\n",
              "       [0., 0., 0., 0., 0., 0.],\n",
              "       [0., 0., 0., 0., 0., 0.],\n",
              "       [0., 0., 0., 0., 0., 0.],\n",
              "       [0., 0., 0., 0., 0., 0.],\n",
              "       [0., 0., 0., 0., 0., 0.],\n",
              "       [0., 0., 0., 0., 0., 0.],\n",
              "       [0., 0., 0., 0., 0., 0.],\n",
              "       [0., 0., 0., 0., 0., 0.],\n",
              "       [0., 0., 0., 0., 0., 0.],\n",
              "       [0., 0., 0., 0., 0., 0.],\n",
              "       [0., 0., 0., 0., 0., 0.],\n",
              "       [0., 0., 0., 0., 0., 0.],\n",
              "       [0., 0., 0., 0., 0., 0.],\n",
              "       [0., 0., 0., 0., 0., 0.],\n",
              "       [0., 0., 0., 0., 0., 0.],\n",
              "       [0., 0., 0., 0., 0., 0.],\n",
              "       [0., 0., 0., 0., 0., 0.],\n",
              "       [0., 0., 0., 0., 0., 0.],\n",
              "       [0., 0., 0., 0., 0., 0.],\n",
              "       [0., 0., 0., 0., 0., 0.],\n",
              "       [0., 0., 0., 0., 0., 0.],\n",
              "       [0., 0., 0., 0., 0., 0.],\n",
              "       [0., 0., 0., 0., 0., 0.]])"
            ]
          },
          "metadata": {},
          "execution_count": 10
        }
      ]
    },
    {
      "cell_type": "code",
      "metadata": {
        "colab": {
          "base_uri": "https://localhost:8080/"
        },
        "id": "fHUM5zneH-px",
        "outputId": "5fdfe55f-4732-4d68-b63b-7cb6bc7160b8"
      },
      "source": [
        "sum1 = 0\n",
        "sum2 = 0\n",
        "for i in range (length):\n",
        "  arr1[i,0] = round(df.loc[i][X],2)\n",
        "  arr1[i,1] = round(df.loc[i][y],2)\n",
        "  arr1[i,2] = round(m*arr1[i,0] + c,2)\n",
        "  arr1[i,3] = round(arr1[i,2] - y_bar,2)\n",
        "  arr1[i,4] = round(arr1[i,3]**2,2)\n",
        "  sum1 += arr1[i,4]\n",
        "  arr1[i,5] = round(arr[i,3]**2,2)\n",
        "  sum2 += arr1[i,5]\n",
        "arr[-1,4] = sum1\n",
        "arr[-1,5] = sum2\n",
        "arr1"
      ],
      "execution_count": null,
      "outputs": [
        {
          "output_type": "execute_result",
          "data": {
            "text/plain": [
              "array([[ 2.311000e+03,  3.960000e+02,  3.694400e+02, -7.804000e+01,\n",
              "         6.090240e+03,  2.650190e+03],\n",
              "       [ 2.968000e+03,  3.550000e+02,  4.427500e+02, -4.730000e+00,\n",
              "         2.237000e+01,  8.552550e+03],\n",
              "       [ 3.773000e+03,  5.860000e+02,  5.325800e+02,  8.510000e+01,\n",
              "         7.242010e+03,  1.918779e+04],\n",
              "       [ 1.934000e+03,  2.540000e+02,  3.273700e+02, -1.201100e+02,\n",
              "         1.442641e+04,  3.743451e+04],\n",
              "       [ 5.466000e+03,  6.460000e+02,  7.215000e+02,  2.740200e+02,\n",
              "         7.508696e+04,  3.941019e+04],\n",
              "       [ 2.180000e+03,  2.780000e+02,  3.548200e+02, -9.266000e+01,\n",
              "         8.585880e+03,  2.872347e+04],\n",
              "       [ 2.128000e+03,  2.790000e+02,  3.490200e+02, -9.846000e+01,\n",
              "         9.694370e+03,  2.838551e+04],\n",
              "       [ 3.439000e+03,  7.480000e+02,  4.953100e+02,  4.783000e+01,\n",
              "         2.287710e+03,  9.031227e+04],\n",
              "       [ 4.559000e+03,  5.460000e+02,  6.202900e+02,  1.728100e+02,\n",
              "         2.986330e+04,  9.706190e+03],\n",
              "       [ 2.748000e+03,  3.380000e+02,  4.182000e+02, -2.928000e+01,\n",
              "         8.573200e+02,  1.198587e+04],\n",
              "       [ 2.709000e+03,  4.090000e+02,  4.138500e+02, -3.363000e+01,\n",
              "         1.130980e+03,  1.480710e+03],\n",
              "       [ 2.209000e+03,  3.820000e+02,  3.580600e+02, -8.942000e+01,\n",
              "         7.995940e+03,  4.287630e+03],\n",
              "       [ 3.372000e+03,  4.430000e+02,  4.878300e+02,  4.035000e+01,\n",
              "         1.628120e+03,  2.007000e+01],\n",
              "       [ 2.944000e+03,  6.100000e+02,  4.400700e+02, -7.410000e+00,\n",
              "         5.491000e+01,  2.641275e+04],\n",
              "       [ 4.020000e+03,  3.940000e+02,  5.601400e+02,  1.126600e+02,\n",
              "         1.269228e+04,  2.860110e+03],\n",
              "       [ 2.722000e+03,  3.400000e+02,  4.153000e+02, -3.218000e+01,\n",
              "         1.035550e+03,  1.155195e+04],\n",
              "       [ 1.296000e+03,  2.080000e+02,  2.561800e+02, -1.913000e+02,\n",
              "         3.659569e+04,  5.735067e+04],\n",
              "       [ 2.384000e+03,  3.500000e+02,  3.775900e+02, -6.989000e+01,\n",
              "         4.884610e+03,  9.502350e+03],\n",
              "       [ 3.296000e+03,  6.870000e+02,  4.793500e+02,  3.187000e+01,\n",
              "         1.015700e+03,  5.736983e+04],\n",
              "       [ 3.042000e+03,  4.960000e+02,  4.510100e+02,  3.530000e+00,\n",
              "         1.246000e+01,  2.354190e+03],\n",
              "       [ 3.178000e+03,  5.680000e+02,  4.661900e+02,  1.871000e+01,\n",
              "         3.500600e+02,  1.452507e+04],\n",
              "       [ 2.272000e+03,  3.210000e+02,  3.650900e+02, -8.239000e+01,\n",
              "         6.788110e+03,  1.599719e+04],\n",
              "       [ 2.488000e+03,  3.280000e+02,  3.891900e+02, -5.829000e+01,\n",
              "         3.397720e+03,  1.427547e+04],\n",
              "       [ 2.282000e+03,  3.170000e+02,  3.662000e+02, -8.128000e+01,\n",
              "         6.606440e+03,  1.702503e+04],\n",
              "       [ 2.526000e+03,  3.870000e+02,  3.934300e+02, -5.405000e+01,\n",
              "         2.921400e+03,  3.657830e+03],\n",
              "       [ 3.298000e+03,  4.620000e+02,  4.795800e+02,  3.210000e+01,\n",
              "         1.030410e+03,  2.108300e+02],\n",
              "       [ 2.752000e+03,  6.780000e+02,  4.186500e+02, -2.883000e+01,\n",
              "         8.311700e+02,  5.313947e+04],\n",
              "       [ 2.587000e+03,  3.090000e+02,  4.002400e+02, -4.724000e+01,\n",
              "         2.231620e+03,  1.917671e+04],\n",
              "       [ 2.587000e+03,  6.480000e+02,  4.002400e+02, -4.724000e+01,\n",
              "         2.231620e+03,  4.020827e+04],\n",
              "       [ 2.774000e+03,  2.950000e+02,  4.211000e+02, -2.638000e+01,\n",
              "         6.959000e+02,  2.325015e+04],\n",
              "       [ 4.161000e+03,  5.480000e+02,  5.758800e+02,  1.284000e+02,\n",
              "         1.648656e+04,  1.010427e+04],\n",
              "       [ 4.063000e+03,  5.270000e+02,  5.649400e+02,  1.174600e+02,\n",
              "         1.379685e+04,  6.323430e+03],\n",
              "       [ 4.204000e+03,  5.900000e+02,  5.806700e+02,  1.331900e+02,\n",
              "         1.773958e+04,  2.031195e+04],\n",
              "       [ 3.632000e+03,  5.050000e+02,  5.168500e+02,  6.937000e+01,\n",
              "         4.812200e+03,  3.308550e+03],\n",
              "       [ 4.398000e+03,  7.160000e+02,  6.023200e+02,  1.548400e+02,\n",
              "         2.397543e+04,  7.210299e+04],\n",
              "       [ 1.864000e+03,  3.850000e+02,  3.195600e+02, -1.279200e+02,\n",
              "         1.636353e+04,  3.903750e+03],\n",
              "       [ 1.792000e+03,  3.140000e+02,  3.115300e+02, -1.359500e+02,\n",
              "         1.848240e+04,  1.781691e+04],\n",
              "       [ 2.681000e+03,  4.830000e+02,  4.107300e+02, -3.675000e+01,\n",
              "         1.350560e+03,  1.261670e+03],\n",
              "       [ 4.038000e+03,  4.680000e+02,  5.621500e+02,  1.146700e+02,\n",
              "         1.314921e+04,  4.210700e+02],\n",
              "       [ 3.173000e+03,  4.180000e+02,  4.656300e+02,  1.815000e+01,\n",
              "         3.294200e+02,  8.690700e+02],\n",
              "       [ 2.784000e+03,  4.190000e+02,  4.222200e+02, -2.526000e+01,\n",
              "         6.380700e+02,  8.111100e+02],\n",
              "       [ 2.406000e+03,  2.960000e+02,  3.800400e+02, -6.744000e+01,\n",
              "         4.548150e+03,  2.294619e+04],\n",
              "       [ 2.900000e+03,  3.750000e+02,  4.351600e+02, -1.232000e+01,\n",
              "         1.517800e+02,  5.253350e+03],\n",
              "       [ 4.115000e+03,  5.870000e+02,  5.707400e+02,  1.232600e+02,\n",
              "         1.519303e+04,  1.946583e+04],\n",
              "       [ 0.000000e+00,  0.000000e+00,  0.000000e+00,  0.000000e+00,\n",
              "         0.000000e+00,  0.000000e+00]])"
            ]
          },
          "metadata": {},
          "execution_count": 11
        }
      ]
    },
    {
      "cell_type": "code",
      "metadata": {
        "colab": {
          "base_uri": "https://localhost:8080/"
        },
        "id": "PrOiHI3bRcZt",
        "outputId": "cdde6317-afb7-46b1-8e07-8dffaa893bff"
      },
      "source": [
        "for i in range(length):\n",
        "  print(arr1[i,0]*m)"
      ],
      "execution_count": null,
      "outputs": [
        {
          "output_type": "stream",
          "name": "stdout",
          "text": [
            "257.8784752365075\n",
            "331.1913952842727\n",
            "421.01925013731835\n",
            "215.81002644197554\n",
            "609.9367138220466\n",
            "243.2605261858876\n",
            "237.45798152457286\n",
            "383.7490594281044\n",
            "508.72694444103746\n",
            "306.642167871018\n",
            "302.2902593750319\n",
            "246.4965607085439\n",
            "376.272703806795\n",
            "328.5132977482813\n",
            "448.5813372785634\n",
            "303.7408955403606\n",
            "144.61726694353686\n",
            "266.0243552418147\n",
            "367.7920616094888\n",
            "339.4488626869129\n",
            "354.6247487241976\n",
            "253.52656674052142\n",
            "277.6294445644442\n",
            "254.64244071385116\n",
            "281.8697656630973\n",
            "368.01523640415473\n",
            "307.08851746034986\n",
            "288.6765969004088\n",
            "288.6765969004088\n",
            "309.54344020167537\n",
            "464.315160302513\n",
            "453.3795953638814\n",
            "469.11341838783096\n",
            "405.2854271133687\n",
            "490.76137347042834\n",
            "207.9989086286672\n",
            "199.96461602069294\n",
            "299.16581224970855\n",
            "450.589910430557\n",
            "354.06681173753276\n",
            "310.6593141750051\n",
            "268.4792779831402\n",
            "323.6034522656303\n",
            "459.18214002519613\n"
          ]
        }
      ]
    },
    {
      "cell_type": "markdown",
      "source": [
        "# Coeficient of Determination or R2 score"
      ],
      "metadata": {
        "id": "lw4pKbpzP5W8"
      }
    },
    {
      "cell_type": "code",
      "metadata": {
        "colab": {
          "base_uri": "https://localhost:8080/"
        },
        "id": "l3_m0z90Pmxu",
        "outputId": "e2ab0964-adcd-4041-d88a-9857bc6130a7"
      },
      "source": [
        "r_sq = sum1/sum2\n",
        "print('Efficiency : ',(r_sq*100),' %')"
      ],
      "execution_count": null,
      "outputs": [
        {
          "output_type": "stream",
          "name": "stdout",
          "text": [
            "Efficiency :  47.29054724116007  %\n"
          ]
        }
      ]
    },
    {
      "cell_type": "markdown",
      "source": [
        "# Visual Output"
      ],
      "metadata": {
        "id": "Y3zrwFPQQCfv"
      }
    },
    {
      "cell_type": "code",
      "metadata": {
        "colab": {
          "base_uri": "https://localhost:8080/",
          "height": 430
        },
        "id": "J9aluIONiKbP",
        "outputId": "e2fbc4e8-d743-48c2-8440-8678333e6895"
      },
      "source": [
        "line = []\n",
        "for i in range (length):\n",
        "  line.append(arr1[i,2])\n",
        "plt.scatter(df['HOME SIZE'],df['VALUE'],c='red')\n",
        "plt.plot(df['HOME SIZE'], line)\n",
        "plt.show()"
      ],
      "execution_count": null,
      "outputs": [
        {
          "output_type": "display_data",
          "data": {
            "text/plain": [
              "<Figure size 640x480 with 1 Axes>"
            ],
            "image/png": "[encoded data removed]"
          },
          "metadata": {}
        }
      ]
    }
  ]
}